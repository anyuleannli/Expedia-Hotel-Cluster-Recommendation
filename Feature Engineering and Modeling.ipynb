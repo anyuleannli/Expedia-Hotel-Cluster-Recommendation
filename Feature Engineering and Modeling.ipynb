{
 "cells": [
  {
   "cell_type": "code",
   "execution_count": 1,
   "metadata": {},
   "outputs": [
    {
     "data": {
      "text/html": [
       "        <script type=\"text/javascript\">\n",
       "        window.PlotlyConfig = {MathJaxConfig: 'local'};\n",
       "        if (window.MathJax) {MathJax.Hub.Config({SVG: {font: \"STIX-Web\"}});}\n",
       "        if (typeof require !== 'undefined') {\n",
       "        require.undef(\"plotly\");\n",
       "        requirejs.config({\n",
       "            paths: {\n",
       "                'plotly': ['https://cdn.plot.ly/plotly-latest.min']\n",
       "            }\n",
       "        });\n",
       "        require(['plotly'], function(Plotly) {\n",
       "            window._Plotly = Plotly;\n",
       "        });\n",
       "        }\n",
       "        </script>\n",
       "        "
      ]
     },
     "metadata": {},
     "output_type": "display_data"
    }
   ],
   "source": [
    "#Importing libraries\n",
    "import zipfile \n",
    "import numpy as np # linear algebra\n",
    "import pandas as pd # data processing, CSV file I/O (e.g. pd.read_csv)\n",
    "# Input data files are available in the \"../input/\" directory.\n",
    "import os\n",
    "import matplotlib.pyplot as plt#visualization\n",
    "from PIL import  Image\n",
    "%matplotlib inline\n",
    "import pandas as pd\n",
    "import seaborn as sns#visualization\n",
    "import itertools\n",
    "import warnings\n",
    "warnings.filterwarnings(\"ignore\")\n",
    "import io\n",
    "import plotly.offline as py#visualization\n",
    "py.init_notebook_mode(connected=True)#visualization\n",
    "import plotly.graph_objs as go#visualization\n",
    "import plotly.tools as tls#visualization\n",
    "import plotly.figure_factory as ff#visualization\n",
    "import plotly.express as px\n",
    "\n",
    "start_time = pd.datetime.now()"
   ]
  },
  {
   "cell_type": "code",
   "execution_count": 44,
   "metadata": {},
   "outputs": [],
   "source": [
    "data = pd.read_csv('data.csv')"
   ]
  },
  {
   "cell_type": "code",
   "execution_count": 45,
   "metadata": {},
   "outputs": [],
   "source": [
    "data=data.drop(['Unnamed: 0'], axis=1)"
   ]
  },
  {
   "cell_type": "code",
   "execution_count": 46,
   "metadata": {},
   "outputs": [
    {
     "data": {
      "text/html": [
       "<div>\n",
       "<style scoped>\n",
       "    .dataframe tbody tr th:only-of-type {\n",
       "        vertical-align: middle;\n",
       "    }\n",
       "\n",
       "    .dataframe tbody tr th {\n",
       "        vertical-align: top;\n",
       "    }\n",
       "\n",
       "    .dataframe thead th {\n",
       "        text-align: right;\n",
       "    }\n",
       "</style>\n",
       "<table border=\"1\" class=\"dataframe\">\n",
       "  <thead>\n",
       "    <tr style=\"text-align: right;\">\n",
       "      <th></th>\n",
       "      <th>channel</th>\n",
       "      <th>cnt</th>\n",
       "      <th>date_time</th>\n",
       "      <th>hotel_cluster</th>\n",
       "      <th>hotel_continent</th>\n",
       "      <th>hotel_country</th>\n",
       "      <th>hotel_market</th>\n",
       "      <th>is_booking</th>\n",
       "      <th>is_mobile</th>\n",
       "      <th>is_package</th>\n",
       "      <th>...</th>\n",
       "      <th>srch_children_cnt</th>\n",
       "      <th>srch_ci</th>\n",
       "      <th>srch_co</th>\n",
       "      <th>srch_destination_id</th>\n",
       "      <th>srch_destination_type_id</th>\n",
       "      <th>srch_rm_cnt</th>\n",
       "      <th>user_id</th>\n",
       "      <th>user_location_city</th>\n",
       "      <th>user_location_country</th>\n",
       "      <th>user_location_region</th>\n",
       "    </tr>\n",
       "  </thead>\n",
       "  <tbody>\n",
       "    <tr>\n",
       "      <th>0</th>\n",
       "      <td>1</td>\n",
       "      <td>1</td>\n",
       "      <td>2014-06-12 22:56:41</td>\n",
       "      <td>51</td>\n",
       "      <td>2</td>\n",
       "      <td>50</td>\n",
       "      <td>628</td>\n",
       "      <td>0</td>\n",
       "      <td>0</td>\n",
       "      <td>1</td>\n",
       "      <td>...</td>\n",
       "      <td>0</td>\n",
       "      <td>2014-07-09 00:00:00</td>\n",
       "      <td>2014-07-13 00:00:00</td>\n",
       "      <td>8250</td>\n",
       "      <td>1</td>\n",
       "      <td>1</td>\n",
       "      <td>461215</td>\n",
       "      <td>20706</td>\n",
       "      <td>66</td>\n",
       "      <td>153</td>\n",
       "    </tr>\n",
       "    <tr>\n",
       "      <th>1</th>\n",
       "      <td>9</td>\n",
       "      <td>1</td>\n",
       "      <td>2014-07-01 02:29:47</td>\n",
       "      <td>38</td>\n",
       "      <td>4</td>\n",
       "      <td>196</td>\n",
       "      <td>2027</td>\n",
       "      <td>0</td>\n",
       "      <td>0</td>\n",
       "      <td>1</td>\n",
       "      <td>...</td>\n",
       "      <td>0</td>\n",
       "      <td>2014-09-14 00:00:00</td>\n",
       "      <td>2014-09-17 00:00:00</td>\n",
       "      <td>8275</td>\n",
       "      <td>1</td>\n",
       "      <td>1</td>\n",
       "      <td>850200</td>\n",
       "      <td>45619</td>\n",
       "      <td>68</td>\n",
       "      <td>330</td>\n",
       "    </tr>\n",
       "    <tr>\n",
       "      <th>2</th>\n",
       "      <td>9</td>\n",
       "      <td>2</td>\n",
       "      <td>2013-05-26 20:32:08</td>\n",
       "      <td>6</td>\n",
       "      <td>2</td>\n",
       "      <td>198</td>\n",
       "      <td>379</td>\n",
       "      <td>0</td>\n",
       "      <td>0</td>\n",
       "      <td>0</td>\n",
       "      <td>...</td>\n",
       "      <td>0</td>\n",
       "      <td>2013-06-02 00:00:00</td>\n",
       "      <td>2013-06-04 00:00:00</td>\n",
       "      <td>25928</td>\n",
       "      <td>1</td>\n",
       "      <td>1</td>\n",
       "      <td>1197652</td>\n",
       "      <td>41495</td>\n",
       "      <td>205</td>\n",
       "      <td>354</td>\n",
       "    </tr>\n",
       "    <tr>\n",
       "      <th>3</th>\n",
       "      <td>9</td>\n",
       "      <td>2</td>\n",
       "      <td>2014-10-24 13:30:01</td>\n",
       "      <td>28</td>\n",
       "      <td>2</td>\n",
       "      <td>50</td>\n",
       "      <td>674</td>\n",
       "      <td>0</td>\n",
       "      <td>0</td>\n",
       "      <td>0</td>\n",
       "      <td>...</td>\n",
       "      <td>0</td>\n",
       "      <td>2014-11-08 00:00:00</td>\n",
       "      <td>2014-11-10 00:00:00</td>\n",
       "      <td>12483</td>\n",
       "      <td>5</td>\n",
       "      <td>1</td>\n",
       "      <td>734197</td>\n",
       "      <td>2428</td>\n",
       "      <td>66</td>\n",
       "      <td>196</td>\n",
       "    </tr>\n",
       "    <tr>\n",
       "      <th>4</th>\n",
       "      <td>9</td>\n",
       "      <td>1</td>\n",
       "      <td>2013-05-27 00:11:40</td>\n",
       "      <td>38</td>\n",
       "      <td>5</td>\n",
       "      <td>73</td>\n",
       "      <td>1722</td>\n",
       "      <td>0</td>\n",
       "      <td>0</td>\n",
       "      <td>1</td>\n",
       "      <td>...</td>\n",
       "      <td>0</td>\n",
       "      <td>2013-06-07 00:00:00</td>\n",
       "      <td>2013-06-16 00:00:00</td>\n",
       "      <td>15582</td>\n",
       "      <td>1</td>\n",
       "      <td>1</td>\n",
       "      <td>710820</td>\n",
       "      <td>28661</td>\n",
       "      <td>24</td>\n",
       "      <td>67</td>\n",
       "    </tr>\n",
       "  </tbody>\n",
       "</table>\n",
       "<p>5 rows × 25 columns</p>\n",
       "</div>"
      ],
      "text/plain": [
       "   channel  cnt            date_time  hotel_cluster  hotel_continent  \\\n",
       "0        1    1  2014-06-12 22:56:41             51                2   \n",
       "1        9    1  2014-07-01 02:29:47             38                4   \n",
       "2        9    2  2013-05-26 20:32:08              6                2   \n",
       "3        9    2  2014-10-24 13:30:01             28                2   \n",
       "4        9    1  2013-05-27 00:11:40             38                5   \n",
       "\n",
       "   hotel_country  hotel_market  is_booking  is_mobile  is_package  ...  \\\n",
       "0             50           628           0          0           1  ...   \n",
       "1            196          2027           0          0           1  ...   \n",
       "2            198           379           0          0           0  ...   \n",
       "3             50           674           0          0           0  ...   \n",
       "4             73          1722           0          0           1  ...   \n",
       "\n",
       "   srch_children_cnt              srch_ci              srch_co  \\\n",
       "0                  0  2014-07-09 00:00:00  2014-07-13 00:00:00   \n",
       "1                  0  2014-09-14 00:00:00  2014-09-17 00:00:00   \n",
       "2                  0  2013-06-02 00:00:00  2013-06-04 00:00:00   \n",
       "3                  0  2014-11-08 00:00:00  2014-11-10 00:00:00   \n",
       "4                  0  2013-06-07 00:00:00  2013-06-16 00:00:00   \n",
       "\n",
       "   srch_destination_id  srch_destination_type_id  srch_rm_cnt  user_id  \\\n",
       "0                 8250                         1            1   461215   \n",
       "1                 8275                         1            1   850200   \n",
       "2                25928                         1            1  1197652   \n",
       "3                12483                         5            1   734197   \n",
       "4                15582                         1            1   710820   \n",
       "\n",
       "  user_location_city  user_location_country  user_location_region  \n",
       "0              20706                     66                   153  \n",
       "1              45619                     68                   330  \n",
       "2              41495                    205                   354  \n",
       "3               2428                     66                   196  \n",
       "4              28661                     24                    67  \n",
       "\n",
       "[5 rows x 25 columns]"
      ]
     },
     "execution_count": 46,
     "metadata": {},
     "output_type": "execute_result"
    }
   ],
   "source": [
    "data.head()"
   ]
  },
  {
   "cell_type": "code",
   "execution_count": 49,
   "metadata": {},
   "outputs": [],
   "source": [
    "#change datatime data type\n",
    "datetime_var = ['date_time','srch_ci','srch_co']\n",
    "def change_datatype():\n",
    "    for i in datetime_var:\n",
    "        data[i] = data[i].astype('datetime64[ns]')\n",
    "    return data\n",
    " \n",
    "data = change_datatype()"
   ]
  },
  {
   "cell_type": "code",
   "execution_count": 50,
   "metadata": {},
   "outputs": [
    {
     "data": {
      "text/plain": [
       "channel                               int64\n",
       "cnt                                   int64\n",
       "date_time                    datetime64[ns]\n",
       "hotel_cluster                         int64\n",
       "hotel_continent                       int64\n",
       "hotel_country                         int64\n",
       "hotel_market                          int64\n",
       "is_booking                            int64\n",
       "is_mobile                             int64\n",
       "is_package                            int64\n",
       "orig_destination_distance           float64\n",
       "posa_continent                        int64\n",
       "rec_hotel_cluster                     int64\n",
       "site_name                             int64\n",
       "srch_adults_cnt                       int64\n",
       "srch_children_cnt                     int64\n",
       "srch_ci                      datetime64[ns]\n",
       "srch_co                      datetime64[ns]\n",
       "srch_destination_id                   int64\n",
       "srch_destination_type_id              int64\n",
       "srch_rm_cnt                           int64\n",
       "user_id                               int64\n",
       "user_location_city                    int64\n",
       "user_location_country                 int64\n",
       "user_location_region                  int64\n",
       "dtype: object"
      ]
     },
     "execution_count": 50,
     "metadata": {},
     "output_type": "execute_result"
    }
   ],
   "source": [
    "data.dtypes"
   ]
  },
  {
   "cell_type": "code",
   "execution_count": null,
   "metadata": {},
   "outputs": [],
   "source": [
    "## Feature Engineering"
   ]
  },
  {
   "cell_type": "code",
   "execution_count": 51,
   "metadata": {},
   "outputs": [],
   "source": [
    "data['checkin_duration']=(data['srch_co']-data['srch_ci']).dt.days"
   ]
  },
  {
   "cell_type": "code",
   "execution_count": 52,
   "metadata": {},
   "outputs": [],
   "source": [
    "data['days_since_sr_login']=(data['srch_co']-data['date_time']).dt.days"
   ]
  },
  {
   "cell_type": "code",
   "execution_count": 53,
   "metadata": {},
   "outputs": [],
   "source": [
    "data['weekend']=data['date_time'].apply(lambda x: 1 if x.dayofweek==5 or x.dayofweek==6 else 0)"
   ]
  },
  {
   "cell_type": "code",
   "execution_count": 54,
   "metadata": {},
   "outputs": [],
   "source": [
    "from datetime import datetime\n",
    "data['date_time_year'] = pd.DatetimeIndex(data['date_time']).year\n",
    "data['date_time_month'] = pd.DatetimeIndex(data['date_time']).month\n"
   ]
  },
  {
   "cell_type": "code",
   "execution_count": 55,
   "metadata": {},
   "outputs": [],
   "source": [
    "data['srch_ci_year'] = pd.DatetimeIndex(data['srch_ci']).year\n",
    "data['srch_ci_month'] = pd.DatetimeIndex(data['srch_ci']).month\n",
    "\n",
    "data['srch_co_year'] = pd.DatetimeIndex(data['srch_co']).year\n",
    "data['srch_co_month'] = pd.DatetimeIndex(data['srch_co']).month"
   ]
  },
  {
   "cell_type": "code",
   "execution_count": 56,
   "metadata": {},
   "outputs": [],
   "source": [
    "data = data.drop(['date_time','srch_ci','srch_co'],axis=1)"
   ]
  },
  {
   "cell_type": "code",
   "execution_count": 58,
   "metadata": {},
   "outputs": [],
   "source": [
    "group=['srch_destination_id','hotel_country','hotel_market','rec_hotel_cluster']\n",
    "for i in group:\n",
    "    data[str(i)+'_booking_mean'] = data.groupby([i])['is_booking'].transform(\n",
    "    lambda x: x.mean())\n",
    "    data[str(i)+'_booking_sum'] = data.groupby([i])['is_booking'].transform(\n",
    "    lambda x: x.sum())\n"
   ]
  },
  {
   "cell_type": "code",
   "execution_count": 60,
   "metadata": {},
   "outputs": [],
   "source": [
    "data['group_booking_mean'] = data.groupby(['srch_destination_id','hotel_country','rec_hotel_cluster'\n",
    "                                           ,'hotel_market'])['is_booking'].transform(\n",
    "    lambda x: x.mean())\n",
    "\n",
    "data['group_booking_sum'] = data.groupby(['srch_destination_id','hotel_country','rec_hotel_cluster',\n",
    "                                          'hotel_market'])['is_booking'].transform(\n",
    "    lambda x: x.sum())"
   ]
  },
  {
   "cell_type": "code",
   "execution_count": 61,
   "metadata": {},
   "outputs": [
    {
     "data": {
      "text/html": [
       "<div>\n",
       "<style scoped>\n",
       "    .dataframe tbody tr th:only-of-type {\n",
       "        vertical-align: middle;\n",
       "    }\n",
       "\n",
       "    .dataframe tbody tr th {\n",
       "        vertical-align: top;\n",
       "    }\n",
       "\n",
       "    .dataframe thead th {\n",
       "        text-align: right;\n",
       "    }\n",
       "</style>\n",
       "<table border=\"1\" class=\"dataframe\">\n",
       "  <thead>\n",
       "    <tr style=\"text-align: right;\">\n",
       "      <th></th>\n",
       "      <th>channel</th>\n",
       "      <th>cnt</th>\n",
       "      <th>hotel_cluster</th>\n",
       "      <th>hotel_continent</th>\n",
       "      <th>hotel_country</th>\n",
       "      <th>hotel_market</th>\n",
       "      <th>is_booking</th>\n",
       "      <th>is_mobile</th>\n",
       "      <th>is_package</th>\n",
       "      <th>orig_destination_distance</th>\n",
       "      <th>...</th>\n",
       "      <th>srch_destination_id_booking_mean</th>\n",
       "      <th>srch_destination_id_booking_sum</th>\n",
       "      <th>hotel_country_booking_mean</th>\n",
       "      <th>hotel_country_booking_sum</th>\n",
       "      <th>hotel_market_booking_mean</th>\n",
       "      <th>hotel_market_booking_sum</th>\n",
       "      <th>rec_hotel_cluster_booking_mean</th>\n",
       "      <th>rec_hotel_cluster_booking_sum</th>\n",
       "      <th>group_booking_mean</th>\n",
       "      <th>group_booking_sum</th>\n",
       "    </tr>\n",
       "  </thead>\n",
       "  <tbody>\n",
       "    <tr>\n",
       "      <th>0</th>\n",
       "      <td>1</td>\n",
       "      <td>1</td>\n",
       "      <td>51</td>\n",
       "      <td>2</td>\n",
       "      <td>50</td>\n",
       "      <td>628</td>\n",
       "      <td>0</td>\n",
       "      <td>0</td>\n",
       "      <td>1</td>\n",
       "      <td>254.716500</td>\n",
       "      <td>...</td>\n",
       "      <td>0.072624</td>\n",
       "      <td>972</td>\n",
       "      <td>0.089363</td>\n",
       "      <td>16091</td>\n",
       "      <td>0.073171</td>\n",
       "      <td>1308</td>\n",
       "      <td>0.104506</td>\n",
       "      <td>610</td>\n",
       "      <td>0.050000</td>\n",
       "      <td>7</td>\n",
       "    </tr>\n",
       "    <tr>\n",
       "      <th>1</th>\n",
       "      <td>9</td>\n",
       "      <td>1</td>\n",
       "      <td>38</td>\n",
       "      <td>4</td>\n",
       "      <td>196</td>\n",
       "      <td>2027</td>\n",
       "      <td>0</td>\n",
       "      <td>0</td>\n",
       "      <td>1</td>\n",
       "      <td>1877.175685</td>\n",
       "      <td>...</td>\n",
       "      <td>0.057540</td>\n",
       "      <td>29</td>\n",
       "      <td>0.085953</td>\n",
       "      <td>134</td>\n",
       "      <td>0.069876</td>\n",
       "      <td>45</td>\n",
       "      <td>0.065149</td>\n",
       "      <td>166</td>\n",
       "      <td>0.040000</td>\n",
       "      <td>1</td>\n",
       "    </tr>\n",
       "    <tr>\n",
       "      <th>2</th>\n",
       "      <td>9</td>\n",
       "      <td>2</td>\n",
       "      <td>6</td>\n",
       "      <td>2</td>\n",
       "      <td>198</td>\n",
       "      <td>379</td>\n",
       "      <td>0</td>\n",
       "      <td>0</td>\n",
       "      <td>0</td>\n",
       "      <td>143.387800</td>\n",
       "      <td>...</td>\n",
       "      <td>0.107438</td>\n",
       "      <td>13</td>\n",
       "      <td>0.109852</td>\n",
       "      <td>1948</td>\n",
       "      <td>0.111111</td>\n",
       "      <td>14</td>\n",
       "      <td>0.102819</td>\n",
       "      <td>496</td>\n",
       "      <td>0.000000</td>\n",
       "      <td>0</td>\n",
       "    </tr>\n",
       "    <tr>\n",
       "      <th>3</th>\n",
       "      <td>9</td>\n",
       "      <td>2</td>\n",
       "      <td>28</td>\n",
       "      <td>2</td>\n",
       "      <td>50</td>\n",
       "      <td>674</td>\n",
       "      <td>0</td>\n",
       "      <td>0</td>\n",
       "      <td>0</td>\n",
       "      <td>195.738700</td>\n",
       "      <td>...</td>\n",
       "      <td>0.170213</td>\n",
       "      <td>32</td>\n",
       "      <td>0.089363</td>\n",
       "      <td>16091</td>\n",
       "      <td>0.123905</td>\n",
       "      <td>99</td>\n",
       "      <td>0.104939</td>\n",
       "      <td>529</td>\n",
       "      <td>0.176471</td>\n",
       "      <td>3</td>\n",
       "    </tr>\n",
       "    <tr>\n",
       "      <th>4</th>\n",
       "      <td>9</td>\n",
       "      <td>1</td>\n",
       "      <td>38</td>\n",
       "      <td>5</td>\n",
       "      <td>73</td>\n",
       "      <td>1722</td>\n",
       "      <td>0</td>\n",
       "      <td>0</td>\n",
       "      <td>1</td>\n",
       "      <td>4927.422533</td>\n",
       "      <td>...</td>\n",
       "      <td>0.086957</td>\n",
       "      <td>4</td>\n",
       "      <td>0.088000</td>\n",
       "      <td>11</td>\n",
       "      <td>0.072727</td>\n",
       "      <td>4</td>\n",
       "      <td>0.052127</td>\n",
       "      <td>185</td>\n",
       "      <td>0.000000</td>\n",
       "      <td>0</td>\n",
       "    </tr>\n",
       "  </tbody>\n",
       "</table>\n",
       "<p>5 rows × 41 columns</p>\n",
       "</div>"
      ],
      "text/plain": [
       "   channel  cnt  hotel_cluster  hotel_continent  hotel_country  hotel_market  \\\n",
       "0        1    1             51                2             50           628   \n",
       "1        9    1             38                4            196          2027   \n",
       "2        9    2              6                2            198           379   \n",
       "3        9    2             28                2             50           674   \n",
       "4        9    1             38                5             73          1722   \n",
       "\n",
       "   is_booking  is_mobile  is_package  orig_destination_distance  ...  \\\n",
       "0           0          0           1                 254.716500  ...   \n",
       "1           0          0           1                1877.175685  ...   \n",
       "2           0          0           0                 143.387800  ...   \n",
       "3           0          0           0                 195.738700  ...   \n",
       "4           0          0           1                4927.422533  ...   \n",
       "\n",
       "   srch_destination_id_booking_mean  srch_destination_id_booking_sum  \\\n",
       "0                          0.072624                              972   \n",
       "1                          0.057540                               29   \n",
       "2                          0.107438                               13   \n",
       "3                          0.170213                               32   \n",
       "4                          0.086957                                4   \n",
       "\n",
       "   hotel_country_booking_mean  hotel_country_booking_sum  \\\n",
       "0                    0.089363                      16091   \n",
       "1                    0.085953                        134   \n",
       "2                    0.109852                       1948   \n",
       "3                    0.089363                      16091   \n",
       "4                    0.088000                         11   \n",
       "\n",
       "   hotel_market_booking_mean  hotel_market_booking_sum  \\\n",
       "0                   0.073171                      1308   \n",
       "1                   0.069876                        45   \n",
       "2                   0.111111                        14   \n",
       "3                   0.123905                        99   \n",
       "4                   0.072727                         4   \n",
       "\n",
       "   rec_hotel_cluster_booking_mean  rec_hotel_cluster_booking_sum  \\\n",
       "0                        0.104506                            610   \n",
       "1                        0.065149                            166   \n",
       "2                        0.102819                            496   \n",
       "3                        0.104939                            529   \n",
       "4                        0.052127                            185   \n",
       "\n",
       "   group_booking_mean  group_booking_sum  \n",
       "0            0.050000                  7  \n",
       "1            0.040000                  1  \n",
       "2            0.000000                  0  \n",
       "3            0.176471                  3  \n",
       "4            0.000000                  0  \n",
       "\n",
       "[5 rows x 41 columns]"
      ]
     },
     "execution_count": 61,
     "metadata": {},
     "output_type": "execute_result"
    }
   ],
   "source": [
    "data.head()"
   ]
  },
  {
   "cell_type": "code",
   "execution_count": null,
   "metadata": {},
   "outputs": [],
   "source": [
    "## Modeling"
   ]
  },
  {
   "cell_type": "code",
   "execution_count": 62,
   "metadata": {},
   "outputs": [
    {
     "data": {
      "text/plain": [
       "29749"
      ]
     },
     "execution_count": 62,
     "metadata": {},
     "output_type": "execute_result"
    }
   ],
   "source": [
    "df = data[data['is_booking']==1]\n",
    "len(df)"
   ]
  },
  {
   "cell_type": "code",
   "execution_count": 63,
   "metadata": {},
   "outputs": [],
   "source": [
    "X = df.drop(['user_id', 'hotel_cluster', 'is_booking'], axis=1)\n",
    "y = df.hotel_cluster"
   ]
  },
  {
   "cell_type": "code",
   "execution_count": null,
   "metadata": {},
   "outputs": [],
   "source": [
    "##data scaling"
   ]
  },
  {
   "cell_type": "code",
   "execution_count": 27,
   "metadata": {},
   "outputs": [],
   "source": [
    "from sklearn import preprocessing"
   ]
  },
  {
   "cell_type": "code",
   "execution_count": 64,
   "metadata": {},
   "outputs": [],
   "source": [
    "X_scaled = preprocessing.scale(X)"
   ]
  },
  {
   "cell_type": "code",
   "execution_count": null,
   "metadata": {},
   "outputs": [],
   "source": [
    "##PCA"
   ]
  },
  {
   "cell_type": "code",
   "execution_count": 65,
   "metadata": {},
   "outputs": [],
   "source": [
    "X_PCA = X_scaled.copy()\n"
   ]
  },
  {
   "cell_type": "code",
   "execution_count": 66,
   "metadata": {},
   "outputs": [
    {
     "name": "stdout",
     "output_type": "stream",
     "text": [
      "[0.09325254 0.0899482  0.07653516 0.0631239  0.04334784 0.04244158\n",
      " 0.03994234 0.03760989 0.03432674 0.03363124 0.03084815 0.02902339\n",
      " 0.02805223 0.02620672 0.02549476 0.02504352 0.02474634 0.02300503\n",
      " 0.02213654 0.02171444 0.0210938  0.01903377 0.01741798 0.01680963\n",
      " 0.01542865]\n"
     ]
    }
   ],
   "source": [
    "from sklearn.decomposition import PCA\n",
    "pca = PCA(n_components=25)\n",
    "pca.fit(X_PCA)\n",
    "print(pca.explained_variance_ratio_)\n",
    "X_PCA = pca.transform(X_PCA)"
   ]
  },
  {
   "cell_type": "code",
   "execution_count": 116,
   "metadata": {},
   "outputs": [
    {
     "data": {
      "text/plain": [
       "0.9002143575467236"
      ]
     },
     "execution_count": 116,
     "metadata": {},
     "output_type": "execute_result"
    }
   ],
   "source": [
    "pca_varaince = list(pca.explained_variance_ratio_)\n",
    "np.sum(pca_varaince )"
   ]
  },
  {
   "cell_type": "code",
   "execution_count": 67,
   "metadata": {},
   "outputs": [],
   "source": [
    "from sklearn.model_selection import cross_val_score\n",
    "from sklearn.ensemble import RandomForestClassifier\n",
    "from sklearn.pipeline import make_pipeline\n",
    "from sklearn import preprocessing\n",
    "from sklearn.preprocessing import StandardScaler\n",
    "from sklearn import svm"
   ]
  },
  {
   "cell_type": "code",
   "execution_count": 33,
   "metadata": {},
   "outputs": [],
   "source": [
    "##Naive Bayes"
   ]
  },
  {
   "cell_type": "code",
   "execution_count": 68,
   "metadata": {},
   "outputs": [
    {
     "data": {
      "text/plain": [
       "0.13093833916107644"
      ]
     },
     "execution_count": 68,
     "metadata": {},
     "output_type": "execute_result"
    }
   ],
   "source": [
    "from sklearn.naive_bayes import GaussianNB\n",
    "clf = make_pipeline(preprocessing.StandardScaler(), GaussianNB(priors=None))\n",
    "np.mean(cross_val_score(clf, X_PCA, y, cv=10))"
   ]
  },
  {
   "cell_type": "code",
   "execution_count": 69,
   "metadata": {},
   "outputs": [
    {
     "data": {
      "text/plain": [
       "0.0476786047388489"
      ]
     },
     "execution_count": 69,
     "metadata": {},
     "output_type": "execute_result"
    }
   ],
   "source": [
    "clf = make_pipeline(preprocessing.StandardScaler(), GaussianNB(priors=None))\n",
    "np.mean(cross_val_score(clf, X, y, cv=10))"
   ]
  },
  {
   "cell_type": "code",
   "execution_count": 70,
   "metadata": {},
   "outputs": [
    {
     "data": {
      "text/plain": [
       "0.0476786047388489"
      ]
     },
     "execution_count": 70,
     "metadata": {},
     "output_type": "execute_result"
    }
   ],
   "source": [
    "clf = make_pipeline(preprocessing.StandardScaler(), GaussianNB(priors=None))\n",
    "np.mean(cross_val_score(clf, X_scaled, y, cv=10))"
   ]
  },
  {
   "cell_type": "code",
   "execution_count": null,
   "metadata": {},
   "outputs": [],
   "source": [
    "##K-Nearest Neighbors Classifier"
   ]
  },
  {
   "cell_type": "code",
   "execution_count": 71,
   "metadata": {},
   "outputs": [
    {
     "data": {
      "text/plain": [
       "0.09326500519977152"
      ]
     },
     "execution_count": 71,
     "metadata": {},
     "output_type": "execute_result"
    }
   ],
   "source": [
    "from sklearn.neighbors import KNeighborsClassifier\n",
    "clf = make_pipeline(preprocessing.StandardScaler(), KNeighborsClassifier(n_neighbors=5))\n",
    "np.mean(cross_val_score(clf, X_scaled, y, cv=10, scoring='accuracy'))"
   ]
  },
  {
   "cell_type": "code",
   "execution_count": 72,
   "metadata": {},
   "outputs": [
    {
     "data": {
      "text/plain": [
       "0.09326500519977152"
      ]
     },
     "execution_count": 72,
     "metadata": {},
     "output_type": "execute_result"
    }
   ],
   "source": [
    "clf = make_pipeline(preprocessing.StandardScaler(), KNeighborsClassifier(n_neighbors=5))\n",
    "np.mean(cross_val_score(clf, X, y, cv=10, scoring='accuracy'))"
   ]
  },
  {
   "cell_type": "code",
   "execution_count": 73,
   "metadata": {},
   "outputs": [
    {
     "data": {
      "text/plain": [
       "0.08142691088532247"
      ]
     },
     "execution_count": 73,
     "metadata": {},
     "output_type": "execute_result"
    }
   ],
   "source": [
    "clf = make_pipeline(preprocessing.StandardScaler(), KNeighborsClassifier(n_neighbors=5))\n",
    "np.mean(cross_val_score(clf, X_PCA, y, cv=10, scoring='accuracy'))"
   ]
  },
  {
   "cell_type": "code",
   "execution_count": null,
   "metadata": {},
   "outputs": [],
   "source": [
    "##Random Forest Classifier"
   ]
  },
  {
   "cell_type": "code",
   "execution_count": 74,
   "metadata": {},
   "outputs": [
    {
     "data": {
      "text/plain": [
       "0.5055700673359136"
      ]
     },
     "execution_count": 74,
     "metadata": {},
     "output_type": "execute_result"
    }
   ],
   "source": [
    "clf = make_pipeline(preprocessing.StandardScaler(), \n",
    "                    RandomForestClassifier(n_estimators=273,max_depth=10,random_state=0))\n",
    "np.mean(cross_val_score(clf, X_scaled, y, cv=10, scoring='accuracy'))\n"
   ]
  },
  {
   "cell_type": "code",
   "execution_count": 75,
   "metadata": {},
   "outputs": [
    {
     "data": {
      "text/plain": [
       "0.5055700673359136"
      ]
     },
     "execution_count": 75,
     "metadata": {},
     "output_type": "execute_result"
    }
   ],
   "source": [
    "clf = make_pipeline(preprocessing.StandardScaler(), \n",
    "                    RandomForestClassifier(n_estimators=273,max_depth=10,random_state=0))\n",
    "np.mean(cross_val_score(clf, X, y, cv=10, scoring='accuracy'))"
   ]
  },
  {
   "cell_type": "code",
   "execution_count": 98,
   "metadata": {},
   "outputs": [],
   "source": [
    "X_fi = X.dropna()"
   ]
  },
  {
   "cell_type": "code",
   "execution_count": 103,
   "metadata": {},
   "outputs": [],
   "source": [
    "#feature importance\n",
    "from sklearn.model_selection import train_test_split\n",
    "X2 = df.drop(['user_id', 'is_booking'], axis=1)\n",
    "target = ['hotel_cluster']\n",
    "train,test = train_test_split(X2,test_size =.25 ,random_state = 111)\n",
    "cols    = [i for i in X2.columns if i not in target]\n",
    "train_X = train[cols]\n",
    "train_Y = train[target]\n",
    "test_X  = test[cols]\n",
    "test_Y  = test[target]"
   ]
  },
  {
   "cell_type": "code",
   "execution_count": 106,
   "metadata": {},
   "outputs": [],
   "source": [
    "rf = RandomForestClassifier(n_estimators=273,max_depth=10,random_state=0) \n",
    "rf.fit(train_X, train_Y) \n",
    "rf.score(test_X, test_Y)\n",
    "feature_importances = pd.DataFrame(rf.feature_importances_,\n",
    "                                   index = train_X.columns,\n",
    "                                    columns=['importance']).sort_values('importance',\n",
    "                                                                        ascending=False)"
   ]
  },
  {
   "cell_type": "code",
   "execution_count": 107,
   "metadata": {},
   "outputs": [
    {
     "data": {
      "text/html": [
       "<div>\n",
       "<style scoped>\n",
       "    .dataframe tbody tr th:only-of-type {\n",
       "        vertical-align: middle;\n",
       "    }\n",
       "\n",
       "    .dataframe tbody tr th {\n",
       "        vertical-align: top;\n",
       "    }\n",
       "\n",
       "    .dataframe thead th {\n",
       "        text-align: right;\n",
       "    }\n",
       "</style>\n",
       "<table border=\"1\" class=\"dataframe\">\n",
       "  <thead>\n",
       "    <tr style=\"text-align: right;\">\n",
       "      <th></th>\n",
       "      <th>importance</th>\n",
       "    </tr>\n",
       "  </thead>\n",
       "  <tbody>\n",
       "    <tr>\n",
       "      <th>rec_hotel_cluster_booking_mean</th>\n",
       "      <td>0.211335</td>\n",
       "    </tr>\n",
       "    <tr>\n",
       "      <th>rec_hotel_cluster</th>\n",
       "      <td>0.185523</td>\n",
       "    </tr>\n",
       "    <tr>\n",
       "      <th>rec_hotel_cluster_booking_sum</th>\n",
       "      <td>0.177068</td>\n",
       "    </tr>\n",
       "    <tr>\n",
       "      <th>group_booking_sum</th>\n",
       "      <td>0.054899</td>\n",
       "    </tr>\n",
       "    <tr>\n",
       "      <th>hotel_market_booking_sum</th>\n",
       "      <td>0.043229</td>\n",
       "    </tr>\n",
       "    <tr>\n",
       "      <th>group_booking_mean</th>\n",
       "      <td>0.029440</td>\n",
       "    </tr>\n",
       "    <tr>\n",
       "      <th>hotel_market_booking_mean</th>\n",
       "      <td>0.026996</td>\n",
       "    </tr>\n",
       "    <tr>\n",
       "      <th>srch_destination_id_booking_sum</th>\n",
       "      <td>0.024119</td>\n",
       "    </tr>\n",
       "    <tr>\n",
       "      <th>hotel_country_booking_sum</th>\n",
       "      <td>0.023473</td>\n",
       "    </tr>\n",
       "    <tr>\n",
       "      <th>srch_destination_id_booking_mean</th>\n",
       "      <td>0.023430</td>\n",
       "    </tr>\n",
       "    <tr>\n",
       "      <th>hotel_market</th>\n",
       "      <td>0.022089</td>\n",
       "    </tr>\n",
       "    <tr>\n",
       "      <th>hotel_country_booking_mean</th>\n",
       "      <td>0.017674</td>\n",
       "    </tr>\n",
       "    <tr>\n",
       "      <th>hotel_continent</th>\n",
       "      <td>0.015569</td>\n",
       "    </tr>\n",
       "    <tr>\n",
       "      <th>orig_destination_distance</th>\n",
       "      <td>0.014692</td>\n",
       "    </tr>\n",
       "    <tr>\n",
       "      <th>srch_destination_id</th>\n",
       "      <td>0.012645</td>\n",
       "    </tr>\n",
       "    <tr>\n",
       "      <th>hotel_country</th>\n",
       "      <td>0.012146</td>\n",
       "    </tr>\n",
       "    <tr>\n",
       "      <th>user_location_city</th>\n",
       "      <td>0.011746</td>\n",
       "    </tr>\n",
       "    <tr>\n",
       "      <th>days_since_sr_login</th>\n",
       "      <td>0.011633</td>\n",
       "    </tr>\n",
       "    <tr>\n",
       "      <th>user_location_region</th>\n",
       "      <td>0.010608</td>\n",
       "    </tr>\n",
       "    <tr>\n",
       "      <th>date_time_month</th>\n",
       "      <td>0.007672</td>\n",
       "    </tr>\n",
       "    <tr>\n",
       "      <th>srch_ci_month</th>\n",
       "      <td>0.006931</td>\n",
       "    </tr>\n",
       "    <tr>\n",
       "      <th>checkin_duration</th>\n",
       "      <td>0.006812</td>\n",
       "    </tr>\n",
       "    <tr>\n",
       "      <th>srch_co_month</th>\n",
       "      <td>0.006782</td>\n",
       "    </tr>\n",
       "    <tr>\n",
       "      <th>user_location_country</th>\n",
       "      <td>0.005852</td>\n",
       "    </tr>\n",
       "    <tr>\n",
       "      <th>channel</th>\n",
       "      <td>0.004373</td>\n",
       "    </tr>\n",
       "    <tr>\n",
       "      <th>srch_adults_cnt</th>\n",
       "      <td>0.004279</td>\n",
       "    </tr>\n",
       "    <tr>\n",
       "      <th>site_name</th>\n",
       "      <td>0.004227</td>\n",
       "    </tr>\n",
       "    <tr>\n",
       "      <th>srch_destination_type_id</th>\n",
       "      <td>0.003961</td>\n",
       "    </tr>\n",
       "    <tr>\n",
       "      <th>is_package</th>\n",
       "      <td>0.002959</td>\n",
       "    </tr>\n",
       "    <tr>\n",
       "      <th>srch_children_cnt</th>\n",
       "      <td>0.002869</td>\n",
       "    </tr>\n",
       "    <tr>\n",
       "      <th>posa_continent</th>\n",
       "      <td>0.002580</td>\n",
       "    </tr>\n",
       "    <tr>\n",
       "      <th>srch_co_year</th>\n",
       "      <td>0.002576</td>\n",
       "    </tr>\n",
       "    <tr>\n",
       "      <th>srch_ci_year</th>\n",
       "      <td>0.002511</td>\n",
       "    </tr>\n",
       "    <tr>\n",
       "      <th>srch_rm_cnt</th>\n",
       "      <td>0.001913</td>\n",
       "    </tr>\n",
       "    <tr>\n",
       "      <th>date_time_year</th>\n",
       "      <td>0.001690</td>\n",
       "    </tr>\n",
       "    <tr>\n",
       "      <th>weekend</th>\n",
       "      <td>0.001571</td>\n",
       "    </tr>\n",
       "    <tr>\n",
       "      <th>is_mobile</th>\n",
       "      <td>0.001507</td>\n",
       "    </tr>\n",
       "    <tr>\n",
       "      <th>cnt</th>\n",
       "      <td>0.000620</td>\n",
       "    </tr>\n",
       "  </tbody>\n",
       "</table>\n",
       "</div>"
      ],
      "text/plain": [
       "                                  importance\n",
       "rec_hotel_cluster_booking_mean      0.211335\n",
       "rec_hotel_cluster                   0.185523\n",
       "rec_hotel_cluster_booking_sum       0.177068\n",
       "group_booking_sum                   0.054899\n",
       "hotel_market_booking_sum            0.043229\n",
       "group_booking_mean                  0.029440\n",
       "hotel_market_booking_mean           0.026996\n",
       "srch_destination_id_booking_sum     0.024119\n",
       "hotel_country_booking_sum           0.023473\n",
       "srch_destination_id_booking_mean    0.023430\n",
       "hotel_market                        0.022089\n",
       "hotel_country_booking_mean          0.017674\n",
       "hotel_continent                     0.015569\n",
       "orig_destination_distance           0.014692\n",
       "srch_destination_id                 0.012645\n",
       "hotel_country                       0.012146\n",
       "user_location_city                  0.011746\n",
       "days_since_sr_login                 0.011633\n",
       "user_location_region                0.010608\n",
       "date_time_month                     0.007672\n",
       "srch_ci_month                       0.006931\n",
       "checkin_duration                    0.006812\n",
       "srch_co_month                       0.006782\n",
       "user_location_country               0.005852\n",
       "channel                             0.004373\n",
       "srch_adults_cnt                     0.004279\n",
       "site_name                           0.004227\n",
       "srch_destination_type_id            0.003961\n",
       "is_package                          0.002959\n",
       "srch_children_cnt                   0.002869\n",
       "posa_continent                      0.002580\n",
       "srch_co_year                        0.002576\n",
       "srch_ci_year                        0.002511\n",
       "srch_rm_cnt                         0.001913\n",
       "date_time_year                      0.001690\n",
       "weekend                             0.001571\n",
       "is_mobile                           0.001507\n",
       "cnt                                 0.000620"
      ]
     },
     "execution_count": 107,
     "metadata": {},
     "output_type": "execute_result"
    }
   ],
   "source": [
    "feature_importances"
   ]
  },
  {
   "cell_type": "code",
   "execution_count": 110,
   "metadata": {},
   "outputs": [],
   "source": [
    "test_X['predicted_hotel_cluster']=rf.predict(test_X)\n",
    "test_X['actaul_hotel_cluster'] = test_Y"
   ]
  },
  {
   "cell_type": "code",
   "execution_count": 111,
   "metadata": {},
   "outputs": [
    {
     "data": {
      "text/html": [
       "<div>\n",
       "<style scoped>\n",
       "    .dataframe tbody tr th:only-of-type {\n",
       "        vertical-align: middle;\n",
       "    }\n",
       "\n",
       "    .dataframe tbody tr th {\n",
       "        vertical-align: top;\n",
       "    }\n",
       "\n",
       "    .dataframe thead th {\n",
       "        text-align: right;\n",
       "    }\n",
       "</style>\n",
       "<table border=\"1\" class=\"dataframe\">\n",
       "  <thead>\n",
       "    <tr style=\"text-align: right;\">\n",
       "      <th></th>\n",
       "      <th>channel</th>\n",
       "      <th>cnt</th>\n",
       "      <th>hotel_continent</th>\n",
       "      <th>hotel_country</th>\n",
       "      <th>hotel_market</th>\n",
       "      <th>is_mobile</th>\n",
       "      <th>is_package</th>\n",
       "      <th>orig_destination_distance</th>\n",
       "      <th>posa_continent</th>\n",
       "      <th>rec_hotel_cluster</th>\n",
       "      <th>...</th>\n",
       "      <th>hotel_country_booking_mean</th>\n",
       "      <th>hotel_country_booking_sum</th>\n",
       "      <th>hotel_market_booking_mean</th>\n",
       "      <th>hotel_market_booking_sum</th>\n",
       "      <th>rec_hotel_cluster_booking_mean</th>\n",
       "      <th>rec_hotel_cluster_booking_sum</th>\n",
       "      <th>group_booking_mean</th>\n",
       "      <th>group_booking_sum</th>\n",
       "      <th>predicted_hotel_cluster</th>\n",
       "      <th>actaul_hotel_cluster</th>\n",
       "    </tr>\n",
       "  </thead>\n",
       "  <tbody>\n",
       "    <tr>\n",
       "      <th>8320</th>\n",
       "      <td>9</td>\n",
       "      <td>1</td>\n",
       "      <td>2</td>\n",
       "      <td>50</td>\n",
       "      <td>701</td>\n",
       "      <td>0</td>\n",
       "      <td>1</td>\n",
       "      <td>2138.121578</td>\n",
       "      <td>3</td>\n",
       "      <td>59</td>\n",
       "      <td>...</td>\n",
       "      <td>0.089363</td>\n",
       "      <td>16091</td>\n",
       "      <td>0.057084</td>\n",
       "      <td>442</td>\n",
       "      <td>0.105250</td>\n",
       "      <td>431</td>\n",
       "      <td>0.200000</td>\n",
       "      <td>3</td>\n",
       "      <td>59</td>\n",
       "      <td>59</td>\n",
       "    </tr>\n",
       "    <tr>\n",
       "      <th>139438</th>\n",
       "      <td>5</td>\n",
       "      <td>1</td>\n",
       "      <td>2</td>\n",
       "      <td>50</td>\n",
       "      <td>970</td>\n",
       "      <td>0</td>\n",
       "      <td>0</td>\n",
       "      <td>7300.683700</td>\n",
       "      <td>4</td>\n",
       "      <td>42</td>\n",
       "      <td>...</td>\n",
       "      <td>0.089363</td>\n",
       "      <td>16091</td>\n",
       "      <td>0.182796</td>\n",
       "      <td>17</td>\n",
       "      <td>0.122740</td>\n",
       "      <td>577</td>\n",
       "      <td>1.000000</td>\n",
       "      <td>1</td>\n",
       "      <td>42</td>\n",
       "      <td>42</td>\n",
       "    </tr>\n",
       "    <tr>\n",
       "      <th>200422</th>\n",
       "      <td>9</td>\n",
       "      <td>1</td>\n",
       "      <td>2</td>\n",
       "      <td>50</td>\n",
       "      <td>1241</td>\n",
       "      <td>0</td>\n",
       "      <td>0</td>\n",
       "      <td>2240.129000</td>\n",
       "      <td>3</td>\n",
       "      <td>5</td>\n",
       "      <td>...</td>\n",
       "      <td>0.089363</td>\n",
       "      <td>16091</td>\n",
       "      <td>0.126394</td>\n",
       "      <td>136</td>\n",
       "      <td>0.069536</td>\n",
       "      <td>572</td>\n",
       "      <td>0.250000</td>\n",
       "      <td>1</td>\n",
       "      <td>16</td>\n",
       "      <td>5</td>\n",
       "    </tr>\n",
       "    <tr>\n",
       "      <th>265255</th>\n",
       "      <td>4</td>\n",
       "      <td>1</td>\n",
       "      <td>3</td>\n",
       "      <td>182</td>\n",
       "      <td>46</td>\n",
       "      <td>0</td>\n",
       "      <td>0</td>\n",
       "      <td>7219.419103</td>\n",
       "      <td>2</td>\n",
       "      <td>29</td>\n",
       "      <td>...</td>\n",
       "      <td>0.053390</td>\n",
       "      <td>474</td>\n",
       "      <td>0.063733</td>\n",
       "      <td>265</td>\n",
       "      <td>0.077888</td>\n",
       "      <td>323</td>\n",
       "      <td>0.102941</td>\n",
       "      <td>7</td>\n",
       "      <td>29</td>\n",
       "      <td>62</td>\n",
       "    </tr>\n",
       "    <tr>\n",
       "      <th>249345</th>\n",
       "      <td>9</td>\n",
       "      <td>1</td>\n",
       "      <td>2</td>\n",
       "      <td>198</td>\n",
       "      <td>400</td>\n",
       "      <td>0</td>\n",
       "      <td>0</td>\n",
       "      <td>613.090700</td>\n",
       "      <td>3</td>\n",
       "      <td>3</td>\n",
       "      <td>...</td>\n",
       "      <td>0.109852</td>\n",
       "      <td>1948</td>\n",
       "      <td>0.165414</td>\n",
       "      <td>22</td>\n",
       "      <td>0.054622</td>\n",
       "      <td>169</td>\n",
       "      <td>1.000000</td>\n",
       "      <td>1</td>\n",
       "      <td>4</td>\n",
       "      <td>16</td>\n",
       "    </tr>\n",
       "    <tr>\n",
       "      <th>...</th>\n",
       "      <td>...</td>\n",
       "      <td>...</td>\n",
       "      <td>...</td>\n",
       "      <td>...</td>\n",
       "      <td>...</td>\n",
       "      <td>...</td>\n",
       "      <td>...</td>\n",
       "      <td>...</td>\n",
       "      <td>...</td>\n",
       "      <td>...</td>\n",
       "      <td>...</td>\n",
       "      <td>...</td>\n",
       "      <td>...</td>\n",
       "      <td>...</td>\n",
       "      <td>...</td>\n",
       "      <td>...</td>\n",
       "      <td>...</td>\n",
       "      <td>...</td>\n",
       "      <td>...</td>\n",
       "      <td>...</td>\n",
       "      <td>...</td>\n",
       "    </tr>\n",
       "    <tr>\n",
       "      <th>250980</th>\n",
       "      <td>9</td>\n",
       "      <td>1</td>\n",
       "      <td>2</td>\n",
       "      <td>50</td>\n",
       "      <td>1230</td>\n",
       "      <td>0</td>\n",
       "      <td>0</td>\n",
       "      <td>1855.922500</td>\n",
       "      <td>3</td>\n",
       "      <td>41</td>\n",
       "      <td>...</td>\n",
       "      <td>0.089363</td>\n",
       "      <td>16091</td>\n",
       "      <td>0.086701</td>\n",
       "      <td>517</td>\n",
       "      <td>0.067298</td>\n",
       "      <td>483</td>\n",
       "      <td>0.500000</td>\n",
       "      <td>2</td>\n",
       "      <td>41</td>\n",
       "      <td>41</td>\n",
       "    </tr>\n",
       "    <tr>\n",
       "      <th>226091</th>\n",
       "      <td>4</td>\n",
       "      <td>1</td>\n",
       "      <td>2</td>\n",
       "      <td>50</td>\n",
       "      <td>698</td>\n",
       "      <td>0</td>\n",
       "      <td>0</td>\n",
       "      <td>893.673300</td>\n",
       "      <td>3</td>\n",
       "      <td>42</td>\n",
       "      <td>...</td>\n",
       "      <td>0.089363</td>\n",
       "      <td>16091</td>\n",
       "      <td>0.159420</td>\n",
       "      <td>33</td>\n",
       "      <td>0.122740</td>\n",
       "      <td>577</td>\n",
       "      <td>1.000000</td>\n",
       "      <td>1</td>\n",
       "      <td>42</td>\n",
       "      <td>42</td>\n",
       "    </tr>\n",
       "    <tr>\n",
       "      <th>17962</th>\n",
       "      <td>9</td>\n",
       "      <td>1</td>\n",
       "      <td>3</td>\n",
       "      <td>129</td>\n",
       "      <td>103</td>\n",
       "      <td>0</td>\n",
       "      <td>1</td>\n",
       "      <td>1877.175685</td>\n",
       "      <td>3</td>\n",
       "      <td>29</td>\n",
       "      <td>...</td>\n",
       "      <td>0.088000</td>\n",
       "      <td>11</td>\n",
       "      <td>0.088000</td>\n",
       "      <td>11</td>\n",
       "      <td>0.077888</td>\n",
       "      <td>323</td>\n",
       "      <td>1.000000</td>\n",
       "      <td>1</td>\n",
       "      <td>29</td>\n",
       "      <td>29</td>\n",
       "    </tr>\n",
       "    <tr>\n",
       "      <th>148304</th>\n",
       "      <td>9</td>\n",
       "      <td>1</td>\n",
       "      <td>2</td>\n",
       "      <td>50</td>\n",
       "      <td>637</td>\n",
       "      <td>0</td>\n",
       "      <td>0</td>\n",
       "      <td>1877.175685</td>\n",
       "      <td>3</td>\n",
       "      <td>6</td>\n",
       "      <td>...</td>\n",
       "      <td>0.089363</td>\n",
       "      <td>16091</td>\n",
       "      <td>0.092088</td>\n",
       "      <td>433</td>\n",
       "      <td>0.102819</td>\n",
       "      <td>496</td>\n",
       "      <td>0.384615</td>\n",
       "      <td>5</td>\n",
       "      <td>6</td>\n",
       "      <td>6</td>\n",
       "    </tr>\n",
       "    <tr>\n",
       "      <th>80131</th>\n",
       "      <td>5</td>\n",
       "      <td>1</td>\n",
       "      <td>6</td>\n",
       "      <td>204</td>\n",
       "      <td>27</td>\n",
       "      <td>0</td>\n",
       "      <td>0</td>\n",
       "      <td>248.960500</td>\n",
       "      <td>2</td>\n",
       "      <td>20</td>\n",
       "      <td>...</td>\n",
       "      <td>0.067753</td>\n",
       "      <td>719</td>\n",
       "      <td>0.058371</td>\n",
       "      <td>372</td>\n",
       "      <td>0.052127</td>\n",
       "      <td>185</td>\n",
       "      <td>0.250000</td>\n",
       "      <td>1</td>\n",
       "      <td>8</td>\n",
       "      <td>20</td>\n",
       "    </tr>\n",
       "  </tbody>\n",
       "</table>\n",
       "<p>7438 rows × 40 columns</p>\n",
       "</div>"
      ],
      "text/plain": [
       "        channel  cnt  hotel_continent  hotel_country  hotel_market  is_mobile  \\\n",
       "8320          9    1                2             50           701          0   \n",
       "139438        5    1                2             50           970          0   \n",
       "200422        9    1                2             50          1241          0   \n",
       "265255        4    1                3            182            46          0   \n",
       "249345        9    1                2            198           400          0   \n",
       "...         ...  ...              ...            ...           ...        ...   \n",
       "250980        9    1                2             50          1230          0   \n",
       "226091        4    1                2             50           698          0   \n",
       "17962         9    1                3            129           103          0   \n",
       "148304        9    1                2             50           637          0   \n",
       "80131         5    1                6            204            27          0   \n",
       "\n",
       "        is_package  orig_destination_distance  posa_continent  \\\n",
       "8320             1                2138.121578               3   \n",
       "139438           0                7300.683700               4   \n",
       "200422           0                2240.129000               3   \n",
       "265255           0                7219.419103               2   \n",
       "249345           0                 613.090700               3   \n",
       "...            ...                        ...             ...   \n",
       "250980           0                1855.922500               3   \n",
       "226091           0                 893.673300               3   \n",
       "17962            1                1877.175685               3   \n",
       "148304           0                1877.175685               3   \n",
       "80131            0                 248.960500               2   \n",
       "\n",
       "        rec_hotel_cluster  ...  hotel_country_booking_mean  \\\n",
       "8320                   59  ...                    0.089363   \n",
       "139438                 42  ...                    0.089363   \n",
       "200422                  5  ...                    0.089363   \n",
       "265255                 29  ...                    0.053390   \n",
       "249345                  3  ...                    0.109852   \n",
       "...                   ...  ...                         ...   \n",
       "250980                 41  ...                    0.089363   \n",
       "226091                 42  ...                    0.089363   \n",
       "17962                  29  ...                    0.088000   \n",
       "148304                  6  ...                    0.089363   \n",
       "80131                  20  ...                    0.067753   \n",
       "\n",
       "        hotel_country_booking_sum  hotel_market_booking_mean  \\\n",
       "8320                        16091                   0.057084   \n",
       "139438                      16091                   0.182796   \n",
       "200422                      16091                   0.126394   \n",
       "265255                        474                   0.063733   \n",
       "249345                       1948                   0.165414   \n",
       "...                           ...                        ...   \n",
       "250980                      16091                   0.086701   \n",
       "226091                      16091                   0.159420   \n",
       "17962                          11                   0.088000   \n",
       "148304                      16091                   0.092088   \n",
       "80131                         719                   0.058371   \n",
       "\n",
       "        hotel_market_booking_sum  rec_hotel_cluster_booking_mean  \\\n",
       "8320                         442                        0.105250   \n",
       "139438                        17                        0.122740   \n",
       "200422                       136                        0.069536   \n",
       "265255                       265                        0.077888   \n",
       "249345                        22                        0.054622   \n",
       "...                          ...                             ...   \n",
       "250980                       517                        0.067298   \n",
       "226091                        33                        0.122740   \n",
       "17962                         11                        0.077888   \n",
       "148304                       433                        0.102819   \n",
       "80131                        372                        0.052127   \n",
       "\n",
       "        rec_hotel_cluster_booking_sum  group_booking_mean  group_booking_sum  \\\n",
       "8320                              431            0.200000                  3   \n",
       "139438                            577            1.000000                  1   \n",
       "200422                            572            0.250000                  1   \n",
       "265255                            323            0.102941                  7   \n",
       "249345                            169            1.000000                  1   \n",
       "...                               ...                 ...                ...   \n",
       "250980                            483            0.500000                  2   \n",
       "226091                            577            1.000000                  1   \n",
       "17962                             323            1.000000                  1   \n",
       "148304                            496            0.384615                  5   \n",
       "80131                             185            0.250000                  1   \n",
       "\n",
       "        predicted_hotel_cluster  actaul_hotel_cluster  \n",
       "8320                         59                    59  \n",
       "139438                       42                    42  \n",
       "200422                       16                     5  \n",
       "265255                       29                    62  \n",
       "249345                        4                    16  \n",
       "...                         ...                   ...  \n",
       "250980                       41                    41  \n",
       "226091                       42                    42  \n",
       "17962                        29                    29  \n",
       "148304                        6                     6  \n",
       "80131                         8                    20  \n",
       "\n",
       "[7438 rows x 40 columns]"
      ]
     },
     "execution_count": 111,
     "metadata": {},
     "output_type": "execute_result"
    }
   ],
   "source": [
    "test_X"
   ]
  },
  {
   "cell_type": "code",
   "execution_count": 76,
   "metadata": {},
   "outputs": [
    {
     "data": {
      "text/plain": [
       "0.20343472271480065"
      ]
     },
     "execution_count": 76,
     "metadata": {},
     "output_type": "execute_result"
    }
   ],
   "source": [
    "clf = make_pipeline(preprocessing.StandardScaler(), \n",
    "                    RandomForestClassifier(n_estimators=273,max_depth=10,random_state=0))\n",
    "np.mean(cross_val_score(clf, X_PCA, y, cv=10))"
   ]
  },
  {
   "cell_type": "code",
   "execution_count": null,
   "metadata": {},
   "outputs": [],
   "source": [
    "##Boosted Tree"
   ]
  },
  {
   "cell_type": "code",
   "execution_count": 77,
   "metadata": {},
   "outputs": [
    {
     "data": {
      "text/plain": [
       "0.17178522940833732"
      ]
     },
     "execution_count": 77,
     "metadata": {},
     "output_type": "execute_result"
    }
   ],
   "source": [
    "from sklearn.ensemble import GradientBoostingClassifier\n",
    "clf = make_pipeline(preprocessing.StandardScaler(),\n",
    "                                GradientBoostingClassifier(n_estimators=20, \n",
    "                                learning_rate=0.02, max_features=2, max_depth=2, random_state=0))\n",
    "np.mean(cross_val_score(clf, X_scaled, y, cv=10, scoring='accuracy'))   "
   ]
  },
  {
   "cell_type": "code",
   "execution_count": 78,
   "metadata": {},
   "outputs": [
    {
     "data": {
      "text/plain": [
       "0.0510464053600039"
      ]
     },
     "execution_count": 78,
     "metadata": {},
     "output_type": "execute_result"
    }
   ],
   "source": [
    "clf = make_pipeline(preprocessing.StandardScaler(),\n",
    "                                GradientBoostingClassifier(n_estimators=20, \n",
    "                                learning_rate=0.02, max_features=2, max_depth=2, random_state=0))\n",
    "np.mean(cross_val_score(clf, X_PCA, y, cv=10, scoring='accuracy'))   "
   ]
  },
  {
   "cell_type": "code",
   "execution_count": 79,
   "metadata": {},
   "outputs": [
    {
     "data": {
      "text/plain": [
       "0.17178522940833732"
      ]
     },
     "execution_count": 79,
     "metadata": {},
     "output_type": "execute_result"
    }
   ],
   "source": [
    "from sklearn.ensemble import GradientBoostingClassifier\n",
    "clf = make_pipeline(preprocessing.StandardScaler(),\n",
    "                                GradientBoostingClassifier(n_estimators=20, \n",
    "                                learning_rate=0.02, max_features=2, max_depth=2, random_state=0))\n",
    "np.mean(cross_val_score(clf, X, y, cv=10, scoring='accuracy')) "
   ]
  },
  {
   "cell_type": "code",
   "execution_count": null,
   "metadata": {},
   "outputs": [],
   "source": [
    "##logistic"
   ]
  },
  {
   "cell_type": "code",
   "execution_count": 87,
   "metadata": {},
   "outputs": [
    {
     "data": {
      "text/plain": [
       "0.22894248151932856"
      ]
     },
     "execution_count": 87,
     "metadata": {},
     "output_type": "execute_result"
    }
   ],
   "source": [
    "clf = make_pipeline(preprocessing.StandardScaler(), LogisticRegression(multi_class='ovr'))\n",
    "np.mean(cross_val_score(clf, X, y, cv=10))"
   ]
  },
  {
   "cell_type": "code",
   "execution_count": 88,
   "metadata": {},
   "outputs": [
    {
     "data": {
      "text/plain": [
       "0.16728642080944453"
      ]
     },
     "execution_count": 88,
     "metadata": {},
     "output_type": "execute_result"
    }
   ],
   "source": [
    "clf = make_pipeline(preprocessing.StandardScaler(), LogisticRegression(multi_class='ovr'))\n",
    "np.mean(cross_val_score(clf, X_PCA, y, cv=10))"
   ]
  },
  {
   "cell_type": "code",
   "execution_count": 80,
   "metadata": {},
   "outputs": [
    {
     "data": {
      "text/plain": [
       "0.22894248151932856"
      ]
     },
     "execution_count": 80,
     "metadata": {},
     "output_type": "execute_result"
    }
   ],
   "source": [
    "from sklearn.linear_model import LogisticRegression\n",
    "clf = make_pipeline(preprocessing.StandardScaler(), LogisticRegression(multi_class='ovr'))\n",
    "np.mean(cross_val_score(clf, X_scaled, y, cv=10))"
   ]
  },
  {
   "cell_type": "code",
   "execution_count": null,
   "metadata": {},
   "outputs": [],
   "source": [
    "##SVM"
   ]
  },
  {
   "cell_type": "code",
   "execution_count": 89,
   "metadata": {},
   "outputs": [
    {
     "data": {
      "text/plain": [
       "0.26796136631318734"
      ]
     },
     "execution_count": 89,
     "metadata": {},
     "output_type": "execute_result"
    }
   ],
   "source": [
    "from sklearn import svm\n",
    "clf = make_pipeline(preprocessing.StandardScaler(), svm.SVC(decision_function_shape='ovo'))\n",
    "np.mean(cross_val_score(clf, X, y, cv=10))"
   ]
  },
  {
   "cell_type": "code",
   "execution_count": 86,
   "metadata": {},
   "outputs": [
    {
     "data": {
      "text/plain": [
       "0.21630719487342648"
      ]
     },
     "execution_count": 86,
     "metadata": {},
     "output_type": "execute_result"
    }
   ],
   "source": [
    "clf = make_pipeline(preprocessing.StandardScaler(), svm.SVC(decision_function_shape='ovo'))\n",
    "np.mean(cross_val_score(clf, X_PCA, y, cv=10))"
   ]
  },
  {
   "cell_type": "code",
   "execution_count": null,
   "metadata": {},
   "outputs": [],
   "source": [
    "##Neural Network"
   ]
  },
  {
   "cell_type": "code",
   "execution_count": 82,
   "metadata": {},
   "outputs": [
    {
     "data": {
      "text/plain": [
       "0.29904207825096274"
      ]
     },
     "execution_count": 82,
     "metadata": {},
     "output_type": "execute_result"
    }
   ],
   "source": [
    "from sklearn.neural_network import MLPClassifier\n",
    "clf = make_pipeline(preprocessing.StandardScaler(),MLPClassifier(solver='lbfgs', alpha=1e-5,\n",
    "                  hidden_layer_sizes=(15, 6),random_state=0))\n",
    "np.mean(cross_val_score(clf, X, y, cv=10))"
   ]
  },
  {
   "cell_type": "code",
   "execution_count": 83,
   "metadata": {},
   "outputs": [
    {
     "data": {
      "text/plain": [
       "0.2945669800314693"
      ]
     },
     "execution_count": 83,
     "metadata": {},
     "output_type": "execute_result"
    }
   ],
   "source": [
    "clf = make_pipeline(preprocessing.StandardScaler(),MLPClassifier(solver='lbfgs', alpha=1e-5,\n",
    "                  hidden_layer_sizes=(15, 6),random_state=0))\n",
    "np.mean(cross_val_score(clf, X_PCA, y, cv=10))"
   ]
  },
  {
   "cell_type": "code",
   "execution_count": 84,
   "metadata": {},
   "outputs": [
    {
     "data": {
      "text/plain": [
       "0.2990005381686408"
      ]
     },
     "execution_count": 84,
     "metadata": {},
     "output_type": "execute_result"
    }
   ],
   "source": [
    "clf = make_pipeline(preprocessing.StandardScaler(),MLPClassifier(solver='lbfgs', alpha=1e-5,\n",
    "                  hidden_layer_sizes=(15, 6),random_state=0))\n",
    "np.mean(cross_val_score(clf, X_scaled, y, cv=10))"
   ]
  }
 ],
 "metadata": {
  "kernelspec": {
   "display_name": "Python 3",
   "language": "python",
   "name": "python3"
  },
  "language_info": {
   "codemirror_mode": {
    "name": "ipython",
    "version": 3
   },
   "file_extension": ".py",
   "mimetype": "text/x-python",
   "name": "python",
   "nbconvert_exporter": "python",
   "pygments_lexer": "ipython3",
   "version": "3.7.1"
  }
 },
 "nbformat": 4,
 "nbformat_minor": 2
}
